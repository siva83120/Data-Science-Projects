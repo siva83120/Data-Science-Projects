{
 "cells": [
  {
   "cell_type": "markdown",
   "id": "e8af35b0",
   "metadata": {},
   "source": [
    "# Importing The Dependencies"
   ]
  },
  {
   "cell_type": "code",
   "execution_count": 50,
   "id": "f16779e8",
   "metadata": {},
   "outputs": [],
   "source": [
    "import numpy as np\n",
    "import pandas as pd\n",
    "import matplotlib.pyplot as plt\n",
    "import seaborn as sns\n",
    "import re\n",
    "import os\n",
    "import nltk\n",
    "from nltk.corpus import stopwords\n",
    "from nltk.tokenize import word_tokenize\n",
    "from nltk.util import bigrams,trigrams,ngrams\n",
    "from nltk.probability import FreqDist\n",
    "from nltk.stem import PorterStemmer,LancasterStemmer\n",
    "from nltk.stem import WordNetLemmatizer\n",
    "from sklearn.feature_extraction.text import CountVectorizer\n",
    "from sklearn.model_selection import train_test_split\n",
    "from sklearn.metrics import accuracy_score\n",
    "import sklearn.metrics as metrics\n",
    "from sklearn.metrics import confusion_matrix,classification_report,ConfusionMatrixDisplay"
   ]
  },
  {
   "cell_type": "markdown",
   "id": "1762cecd",
   "metadata": {},
   "source": [
    "# Data Collection & Processing"
   ]
  },
  {
   "cell_type": "code",
   "execution_count": 51,
   "id": "ba0a1e2d",
   "metadata": {},
   "outputs": [],
   "source": [
    "## loading tha data from tsv file and converted to csv file to a pandas DataFrame\n",
    "\n",
    "Review_Dataset=pd.read_csv(r\"Documents\\Restaurant_Reviews.tsv\",delimiter=\"\\t\")\n"
   ]
  },
  {
   "cell_type": "code",
   "execution_count": 52,
   "id": "4ef426b9",
   "metadata": {},
   "outputs": [
    {
     "data": {
      "text/html": [
       "<div>\n",
       "<style scoped>\n",
       "    .dataframe tbody tr th:only-of-type {\n",
       "        vertical-align: middle;\n",
       "    }\n",
       "\n",
       "    .dataframe tbody tr th {\n",
       "        vertical-align: top;\n",
       "    }\n",
       "\n",
       "    .dataframe thead th {\n",
       "        text-align: right;\n",
       "    }\n",
       "</style>\n",
       "<table border=\"1\" class=\"dataframe\">\n",
       "  <thead>\n",
       "    <tr style=\"text-align: right;\">\n",
       "      <th></th>\n",
       "      <th>Review</th>\n",
       "      <th>Liked</th>\n",
       "    </tr>\n",
       "  </thead>\n",
       "  <tbody>\n",
       "    <tr>\n",
       "      <th>0</th>\n",
       "      <td>Wow... Loved this place.</td>\n",
       "      <td>1</td>\n",
       "    </tr>\n",
       "    <tr>\n",
       "      <th>1</th>\n",
       "      <td>Crust is not good.</td>\n",
       "      <td>0</td>\n",
       "    </tr>\n",
       "    <tr>\n",
       "      <th>2</th>\n",
       "      <td>Not tasty and the texture was just nasty.</td>\n",
       "      <td>0</td>\n",
       "    </tr>\n",
       "    <tr>\n",
       "      <th>3</th>\n",
       "      <td>Stopped by during the late May bank holiday of...</td>\n",
       "      <td>1</td>\n",
       "    </tr>\n",
       "    <tr>\n",
       "      <th>4</th>\n",
       "      <td>The selection on the menu was great and so wer...</td>\n",
       "      <td>1</td>\n",
       "    </tr>\n",
       "  </tbody>\n",
       "</table>\n",
       "</div>"
      ],
      "text/plain": [
       "                                              Review  Liked\n",
       "0                           Wow... Loved this place.      1\n",
       "1                                 Crust is not good.      0\n",
       "2          Not tasty and the texture was just nasty.      0\n",
       "3  Stopped by during the late May bank holiday of...      1\n",
       "4  The selection on the menu was great and so wer...      1"
      ]
     },
     "execution_count": 52,
     "metadata": {},
     "output_type": "execute_result"
    }
   ],
   "source": [
    "Review_Dataset.head()"
   ]
  },
  {
   "cell_type": "code",
   "execution_count": 53,
   "id": "e62059dc",
   "metadata": {},
   "outputs": [
    {
     "data": {
      "text/plain": [
       "(1000, 2)"
      ]
     },
     "execution_count": 53,
     "metadata": {},
     "output_type": "execute_result"
    }
   ],
   "source": [
    "## finding the Rows & Columns\n",
    "\n",
    "Review_Dataset.shape"
   ]
  },
  {
   "cell_type": "markdown",
   "id": "6477801f",
   "metadata": {},
   "source": [
    "# Data Cleaning & Split The Data "
   ]
  },
  {
   "cell_type": "code",
   "execution_count": 54,
   "id": "a1a2d9a5",
   "metadata": {},
   "outputs": [],
   "source": [
    "corpus=[]"
   ]
  },
  {
   "cell_type": "code",
   "execution_count": 55,
   "id": "de82bb28",
   "metadata": {},
   "outputs": [],
   "source": [
    "for i in range(0,1000):\n",
    "    review=re.sub(\"[a-zA-Z]\",\" \",Review_Dataset[\"Review\"][i])                  ## special characters removed\n",
    "    \n",
    "    review=review.lower()                                       ## all words converted to lowercase\n",
    "                  \n",
    "    review=review.split()                                       ## split the seperate word by space\n",
    "    \n",
    "    ps=PorterStemmer()\n",
    "    \n",
    "    review = [ps.stem(word) for word in review if word not in stopwords.words('english')]          ## not steming words removed using stopwords\n",
    "    \n",
    "    review=\" \".join(review)                                     ## list converted to string\n",
    "    \n",
    "    corpus.append(review)\n",
    "    \n",
    "                  "
   ]
  },
  {
   "cell_type": "markdown",
   "id": "3d60cf96",
   "metadata": {},
   "source": [
    "# All Words Converted As a Number"
   ]
  },
  {
   "cell_type": "code",
   "execution_count": 56,
   "id": "4bb6c030",
   "metadata": {},
   "outputs": [],
   "source": [
    "cv=CountVectorizer(max_features=1500)\n",
    "x=cv.fit_transform(corpus)\n",
    "y=Review_Dataset.iloc[:,1].values\n"
   ]
  },
  {
   "cell_type": "code",
   "execution_count": 57,
   "id": "69ad6fe9",
   "metadata": {},
   "outputs": [],
   "source": [
    "## splitting the data into training and test for model building and prediction \n",
    "\n",
    "\n",
    "x_train,x_test,y_train,y_test=train_test_split(x,y,test_size=0.25)"
   ]
  },
  {
   "cell_type": "code",
   "execution_count": 58,
   "id": "2a2744fd",
   "metadata": {},
   "outputs": [
    {
     "data": {
      "text/plain": [
       "(750,)"
      ]
     },
     "execution_count": 58,
     "metadata": {},
     "output_type": "execute_result"
    }
   ],
   "source": [
    "y_train.shape"
   ]
  },
  {
   "cell_type": "markdown",
   "id": "64c27217",
   "metadata": {},
   "source": [
    "# import the random classifier model"
   ]
  },
  {
   "cell_type": "code",
   "execution_count": 70,
   "id": "77cfbb0f",
   "metadata": {},
   "outputs": [
    {
     "data": {
      "text/plain": [
       "RandomForestClassifier(criterion='entropy', n_estimators=1000)"
      ]
     },
     "execution_count": 70,
     "metadata": {},
     "output_type": "execute_result"
    }
   ],
   "source": [
    "from sklearn.ensemble import RandomForestClassifier\n",
    "model=RandomForestClassifier(n_estimators=1000,criterion=\"entropy\")\n",
    "model.fit(x_train,y_train)"
   ]
  },
  {
   "cell_type": "code",
   "execution_count": 71,
   "id": "18aad6ca",
   "metadata": {},
   "outputs": [
    {
     "data": {
      "text/plain": [
       "0.5253333333333333"
      ]
     },
     "execution_count": 71,
     "metadata": {},
     "output_type": "execute_result"
    }
   ],
   "source": [
    "(394)/750"
   ]
  },
  {
   "cell_type": "code",
   "execution_count": 74,
   "id": "b3b96563",
   "metadata": {},
   "outputs": [
    {
     "name": "stdout",
     "output_type": "stream",
     "text": [
      "[[390   0]\n",
      " [356   4]]\n",
      "\n",
      "\n",
      "              precision    recall  f1-score   support\n",
      "\n",
      "           0       0.52      1.00      0.69       390\n",
      "           1       1.00      0.01      0.02       360\n",
      "\n",
      "    accuracy                           0.53       750\n",
      "   macro avg       0.76      0.51      0.35       750\n",
      "weighted avg       0.75      0.53      0.37       750\n",
      "\n"
     ]
    }
   ],
   "source": [
    "prediction=model.predict(x_train)\n",
    "print(confusion_matrix(y_train,prediction))\n",
    "print('\\n')\n",
    "print(classification_report(y_train,prediction))"
   ]
  },
  {
   "cell_type": "code",
   "execution_count": null,
   "id": "aac77e92",
   "metadata": {},
   "outputs": [],
   "source": []
  }
 ],
 "metadata": {
  "kernelspec": {
   "display_name": "Python 3 (ipykernel)",
   "language": "python",
   "name": "python3"
  },
  "language_info": {
   "codemirror_mode": {
    "name": "ipython",
    "version": 3
   },
   "file_extension": ".py",
   "mimetype": "text/x-python",
   "name": "python",
   "nbconvert_exporter": "python",
   "pygments_lexer": "ipython3",
   "version": "3.9.13"
  }
 },
 "nbformat": 4,
 "nbformat_minor": 5
}
