{
 "cells": [
  {
   "cell_type": "markdown",
   "id": "30f8a116",
   "metadata": {},
   "source": [
    "#                                      House Price Prediction"
   ]
  },
  {
   "cell_type": "markdown",
   "id": "47582ad8",
   "metadata": {},
   "source": [
    "## Introduction"
   ]
  },
  {
   "cell_type": "markdown",
   "id": "bc3e574d",
   "metadata": {},
   "source": [
    "\n",
    "                  \n",
    "                  \n",
    "                  The House Price Prediction project is a data science endeavor aimed at developing a predictive model that accurately estimates the market value of residential properties. This project leverages a rich dataset containing various features related to houses, such as square footage, location, number of bedrooms and bathrooms, and other pertinent factors that influence house prices. Through advanced data analysis, machine learning, and statistical techniques, our goal is to assist homebuyers, sellers, and real estate professionals in making well-informed decisions."
   ]
  },
  {
   "cell_type": "code",
   "execution_count": 2,
   "id": "f4065351",
   "metadata": {},
   "outputs": [],
   "source": [
    "import numpy as np\n",
    "import pandas as pd\n",
    "import seaborn as sns\n",
    "import matplotlib.pyplot as plt\n",
    "import pickle\n",
    "\n",
    "import warnings\n",
    "warnings.filterwarnings(\"ignore\")\n"
   ]
  },
  {
   "cell_type": "markdown",
   "id": "7fb5add2",
   "metadata": {},
   "source": [
    "## Data Collection & Analysis"
   ]
  },
  {
   "cell_type": "markdown",
   "id": "35554c83",
   "metadata": {},
   "source": [
    "Feature Engineering:\n",
    "    \n",
    "    Data scientists will engage in comprehensive feature engineering to preprocess and transform raw data. This includes handling missing values, scaling, encoding categorical variables, and selecting relevant features to improve model performance."
   ]
  },
  {
   "cell_type": "code",
   "execution_count": 3,
   "id": "db5fd54a",
   "metadata": {},
   "outputs": [
    {
     "data": {
      "text/html": [
       "<div>\n",
       "<style scoped>\n",
       "    .dataframe tbody tr th:only-of-type {\n",
       "        vertical-align: middle;\n",
       "    }\n",
       "\n",
       "    .dataframe tbody tr th {\n",
       "        vertical-align: top;\n",
       "    }\n",
       "\n",
       "    .dataframe thead th {\n",
       "        text-align: right;\n",
       "    }\n",
       "</style>\n",
       "<table border=\"1\" class=\"dataframe\">\n",
       "  <thead>\n",
       "    <tr style=\"text-align: right;\">\n",
       "      <th></th>\n",
       "      <th>bedroom_count</th>\n",
       "      <th>net_sqm</th>\n",
       "      <th>center_distance</th>\n",
       "      <th>metro_distance</th>\n",
       "      <th>floor</th>\n",
       "      <th>age</th>\n",
       "      <th>price</th>\n",
       "    </tr>\n",
       "  </thead>\n",
       "  <tbody>\n",
       "    <tr>\n",
       "      <th>0</th>\n",
       "      <td>1</td>\n",
       "      <td>26.184098</td>\n",
       "      <td>1286.68</td>\n",
       "      <td>204.003817</td>\n",
       "      <td>22</td>\n",
       "      <td>67</td>\n",
       "      <td>96004.804557</td>\n",
       "    </tr>\n",
       "    <tr>\n",
       "      <th>1</th>\n",
       "      <td>1</td>\n",
       "      <td>34.866901</td>\n",
       "      <td>1855.25</td>\n",
       "      <td>186.980360</td>\n",
       "      <td>8</td>\n",
       "      <td>30</td>\n",
       "      <td>92473.722568</td>\n",
       "    </tr>\n",
       "    <tr>\n",
       "      <th>2</th>\n",
       "      <td>1</td>\n",
       "      <td>36.980709</td>\n",
       "      <td>692.09</td>\n",
       "      <td>111.224999</td>\n",
       "      <td>24</td>\n",
       "      <td>24</td>\n",
       "      <td>98112.519942</td>\n",
       "    </tr>\n",
       "    <tr>\n",
       "      <th>3</th>\n",
       "      <td>1</td>\n",
       "      <td>17.445723</td>\n",
       "      <td>1399.49</td>\n",
       "      <td>237.998760</td>\n",
       "      <td>1</td>\n",
       "      <td>66</td>\n",
       "      <td>92118.326874</td>\n",
       "    </tr>\n",
       "    <tr>\n",
       "      <th>4</th>\n",
       "      <td>1</td>\n",
       "      <td>52.587646</td>\n",
       "      <td>84.65</td>\n",
       "      <td>100.996400</td>\n",
       "      <td>20</td>\n",
       "      <td>3</td>\n",
       "      <td>98976.653176</td>\n",
       "    </tr>\n",
       "    <tr>\n",
       "      <th>...</th>\n",
       "      <td>...</td>\n",
       "      <td>...</td>\n",
       "      <td>...</td>\n",
       "      <td>...</td>\n",
       "      <td>...</td>\n",
       "      <td>...</td>\n",
       "      <td>...</td>\n",
       "    </tr>\n",
       "    <tr>\n",
       "      <th>4040</th>\n",
       "      <td>14</td>\n",
       "      <td>600.285032</td>\n",
       "      <td>499.92</td>\n",
       "      <td>84.714882</td>\n",
       "      <td>1</td>\n",
       "      <td>2</td>\n",
       "      <td>115050.425194</td>\n",
       "    </tr>\n",
       "    <tr>\n",
       "      <th>4041</th>\n",
       "      <td>14</td>\n",
       "      <td>242.912020</td>\n",
       "      <td>1408.20</td>\n",
       "      <td>94.257176</td>\n",
       "      <td>2</td>\n",
       "      <td>34</td>\n",
       "      <td>99862.768731</td>\n",
       "    </tr>\n",
       "    <tr>\n",
       "      <th>4042</th>\n",
       "      <td>14</td>\n",
       "      <td>381.986238</td>\n",
       "      <td>1600.48</td>\n",
       "      <td>175.757426</td>\n",
       "      <td>2</td>\n",
       "      <td>64</td>\n",
       "      <td>103316.062406</td>\n",
       "    </tr>\n",
       "    <tr>\n",
       "      <th>4043</th>\n",
       "      <td>17</td>\n",
       "      <td>750.971604</td>\n",
       "      <td>402.62</td>\n",
       "      <td>40.985933</td>\n",
       "      <td>1</td>\n",
       "      <td>80</td>\n",
       "      <td>118134.771190</td>\n",
       "    </tr>\n",
       "    <tr>\n",
       "      <th>4044</th>\n",
       "      <td>17</td>\n",
       "      <td>644.319019</td>\n",
       "      <td>229.89</td>\n",
       "      <td>-63.470240</td>\n",
       "      <td>1</td>\n",
       "      <td>76</td>\n",
       "      <td>115683.549545</td>\n",
       "    </tr>\n",
       "  </tbody>\n",
       "</table>\n",
       "<p>4045 rows × 7 columns</p>\n",
       "</div>"
      ],
      "text/plain": [
       "      bedroom_count     net_sqm  center_distance  metro_distance  floor  age  \\\n",
       "0                 1   26.184098          1286.68      204.003817     22   67   \n",
       "1                 1   34.866901          1855.25      186.980360      8   30   \n",
       "2                 1   36.980709           692.09      111.224999     24   24   \n",
       "3                 1   17.445723          1399.49      237.998760      1   66   \n",
       "4                 1   52.587646            84.65      100.996400     20    3   \n",
       "...             ...         ...              ...             ...    ...  ...   \n",
       "4040             14  600.285032           499.92       84.714882      1    2   \n",
       "4041             14  242.912020          1408.20       94.257176      2   34   \n",
       "4042             14  381.986238          1600.48      175.757426      2   64   \n",
       "4043             17  750.971604           402.62       40.985933      1   80   \n",
       "4044             17  644.319019           229.89      -63.470240      1   76   \n",
       "\n",
       "              price  \n",
       "0      96004.804557  \n",
       "1      92473.722568  \n",
       "2      98112.519942  \n",
       "3      92118.326874  \n",
       "4      98976.653176  \n",
       "...             ...  \n",
       "4040  115050.425194  \n",
       "4041   99862.768731  \n",
       "4042  103316.062406  \n",
       "4043  118134.771190  \n",
       "4044  115683.549545  \n",
       "\n",
       "[4045 rows x 7 columns]"
      ]
     },
     "execution_count": 3,
     "metadata": {},
     "output_type": "execute_result"
    }
   ],
   "source": [
    "## Loading the data set\n",
    "\n",
    "df=pd.read_csv(r\"Documents\\house.csv\")\n",
    "df"
   ]
  },
  {
   "cell_type": "code",
   "execution_count": 6,
   "id": "0a2f8dc5",
   "metadata": {},
   "outputs": [
    {
     "data": {
      "text/plain": [
       "2     1019\n",
       "3      764\n",
       "1      653\n",
       "4      512\n",
       "5      310\n",
       "6      213\n",
       "7      179\n",
       "8      145\n",
       "9      111\n",
       "10      77\n",
       "11      43\n",
       "12       9\n",
       "13       5\n",
       "14       3\n",
       "17       2\n",
       "Name: bedroom_count, dtype: int64"
      ]
     },
     "execution_count": 6,
     "metadata": {},
     "output_type": "execute_result"
    }
   ],
   "source": [
    "df[\"bedroom_count\"].value_counts()"
   ]
  },
  {
   "cell_type": "code",
   "execution_count": 7,
   "id": "61de4649",
   "metadata": {},
   "outputs": [
    {
     "data": {
      "text/html": [
       "<div>\n",
       "<style scoped>\n",
       "    .dataframe tbody tr th:only-of-type {\n",
       "        vertical-align: middle;\n",
       "    }\n",
       "\n",
       "    .dataframe tbody tr th {\n",
       "        vertical-align: top;\n",
       "    }\n",
       "\n",
       "    .dataframe thead th {\n",
       "        text-align: right;\n",
       "    }\n",
       "</style>\n",
       "<table border=\"1\" class=\"dataframe\">\n",
       "  <thead>\n",
       "    <tr style=\"text-align: right;\">\n",
       "      <th></th>\n",
       "      <th>bedroom_count</th>\n",
       "      <th>net_sqm</th>\n",
       "      <th>center_distance</th>\n",
       "      <th>metro_distance</th>\n",
       "      <th>floor</th>\n",
       "      <th>age</th>\n",
       "      <th>price</th>\n",
       "    </tr>\n",
       "  </thead>\n",
       "  <tbody>\n",
       "    <tr>\n",
       "      <th>0</th>\n",
       "      <td>1</td>\n",
       "      <td>26.184098</td>\n",
       "      <td>1286.68</td>\n",
       "      <td>204.003817</td>\n",
       "      <td>22</td>\n",
       "      <td>67</td>\n",
       "      <td>96004.804557</td>\n",
       "    </tr>\n",
       "    <tr>\n",
       "      <th>1</th>\n",
       "      <td>1</td>\n",
       "      <td>34.866901</td>\n",
       "      <td>1855.25</td>\n",
       "      <td>186.980360</td>\n",
       "      <td>8</td>\n",
       "      <td>30</td>\n",
       "      <td>92473.722568</td>\n",
       "    </tr>\n",
       "    <tr>\n",
       "      <th>2</th>\n",
       "      <td>1</td>\n",
       "      <td>36.980709</td>\n",
       "      <td>692.09</td>\n",
       "      <td>111.224999</td>\n",
       "      <td>24</td>\n",
       "      <td>24</td>\n",
       "      <td>98112.519942</td>\n",
       "    </tr>\n",
       "    <tr>\n",
       "      <th>3</th>\n",
       "      <td>1</td>\n",
       "      <td>17.445723</td>\n",
       "      <td>1399.49</td>\n",
       "      <td>237.998760</td>\n",
       "      <td>1</td>\n",
       "      <td>66</td>\n",
       "      <td>92118.326874</td>\n",
       "    </tr>\n",
       "    <tr>\n",
       "      <th>4</th>\n",
       "      <td>1</td>\n",
       "      <td>52.587646</td>\n",
       "      <td>84.65</td>\n",
       "      <td>100.996400</td>\n",
       "      <td>20</td>\n",
       "      <td>3</td>\n",
       "      <td>98976.653176</td>\n",
       "    </tr>\n",
       "  </tbody>\n",
       "</table>\n",
       "</div>"
      ],
      "text/plain": [
       "   bedroom_count    net_sqm  center_distance  metro_distance  floor  age  \\\n",
       "0              1  26.184098          1286.68      204.003817     22   67   \n",
       "1              1  34.866901          1855.25      186.980360      8   30   \n",
       "2              1  36.980709           692.09      111.224999     24   24   \n",
       "3              1  17.445723          1399.49      237.998760      1   66   \n",
       "4              1  52.587646            84.65      100.996400     20    3   \n",
       "\n",
       "          price  \n",
       "0  96004.804557  \n",
       "1  92473.722568  \n",
       "2  98112.519942  \n",
       "3  92118.326874  \n",
       "4  98976.653176  "
      ]
     },
     "execution_count": 7,
     "metadata": {},
     "output_type": "execute_result"
    }
   ],
   "source": [
    "df.head()"
   ]
  },
  {
   "cell_type": "code",
   "execution_count": 8,
   "id": "107f207e",
   "metadata": {},
   "outputs": [
    {
     "data": {
      "text/plain": [
       "Index(['bedroom_count', 'net_sqm', 'center_distance', 'metro_distance',\n",
       "       'floor', 'age', 'price'],\n",
       "      dtype='object')"
      ]
     },
     "execution_count": 8,
     "metadata": {},
     "output_type": "execute_result"
    }
   ],
   "source": [
    "## showing the column names \n",
    "\n",
    "df.columns"
   ]
  },
  {
   "cell_type": "code",
   "execution_count": 9,
   "id": "a4e82099",
   "metadata": {},
   "outputs": [
    {
     "data": {
      "text/html": [
       "<div>\n",
       "<style scoped>\n",
       "    .dataframe tbody tr th:only-of-type {\n",
       "        vertical-align: middle;\n",
       "    }\n",
       "\n",
       "    .dataframe tbody tr th {\n",
       "        vertical-align: top;\n",
       "    }\n",
       "\n",
       "    .dataframe thead th {\n",
       "        text-align: right;\n",
       "    }\n",
       "</style>\n",
       "<table border=\"1\" class=\"dataframe\">\n",
       "  <thead>\n",
       "    <tr style=\"text-align: right;\">\n",
       "      <th></th>\n",
       "      <th>bedroom_count</th>\n",
       "      <th>net_sqm</th>\n",
       "      <th>center_distance</th>\n",
       "      <th>metro_distance</th>\n",
       "      <th>floor</th>\n",
       "      <th>age</th>\n",
       "      <th>price</th>\n",
       "    </tr>\n",
       "  </thead>\n",
       "  <tbody>\n",
       "    <tr>\n",
       "      <th>count</th>\n",
       "      <td>4045.000000</td>\n",
       "      <td>4045.000000</td>\n",
       "      <td>4045.000000</td>\n",
       "      <td>4045.000000</td>\n",
       "      <td>4045.00000</td>\n",
       "      <td>4045.000000</td>\n",
       "      <td>4045.000000</td>\n",
       "    </tr>\n",
       "    <tr>\n",
       "      <th>mean</th>\n",
       "      <td>3.649691</td>\n",
       "      <td>111.628225</td>\n",
       "      <td>1007.115236</td>\n",
       "      <td>89.412340</td>\n",
       "      <td>9.55822</td>\n",
       "      <td>48.360198</td>\n",
       "      <td>95733.956499</td>\n",
       "    </tr>\n",
       "    <tr>\n",
       "      <th>std</th>\n",
       "      <td>2.465720</td>\n",
       "      <td>89.459307</td>\n",
       "      <td>578.706749</td>\n",
       "      <td>71.000440</td>\n",
       "      <td>7.70210</td>\n",
       "      <td>28.153029</td>\n",
       "      <td>3770.581749</td>\n",
       "    </tr>\n",
       "    <tr>\n",
       "      <th>min</th>\n",
       "      <td>1.000000</td>\n",
       "      <td>-8.499109</td>\n",
       "      <td>10.060000</td>\n",
       "      <td>-168.492932</td>\n",
       "      <td>1.00000</td>\n",
       "      <td>0.000000</td>\n",
       "      <td>84153.485790</td>\n",
       "    </tr>\n",
       "    <tr>\n",
       "      <th>25%</th>\n",
       "      <td>2.000000</td>\n",
       "      <td>50.168622</td>\n",
       "      <td>510.630000</td>\n",
       "      <td>39.283508</td>\n",
       "      <td>2.00000</td>\n",
       "      <td>24.000000</td>\n",
       "      <td>93199.037388</td>\n",
       "    </tr>\n",
       "    <tr>\n",
       "      <th>50%</th>\n",
       "      <td>3.000000</td>\n",
       "      <td>86.381463</td>\n",
       "      <td>1009.410000</td>\n",
       "      <td>89.031988</td>\n",
       "      <td>8.00000</td>\n",
       "      <td>48.000000</td>\n",
       "      <td>95474.254973</td>\n",
       "    </tr>\n",
       "    <tr>\n",
       "      <th>75%</th>\n",
       "      <td>5.000000</td>\n",
       "      <td>144.767416</td>\n",
       "      <td>1493.410000</td>\n",
       "      <td>140.493035</td>\n",
       "      <td>16.00000</td>\n",
       "      <td>72.000000</td>\n",
       "      <td>97863.622299</td>\n",
       "    </tr>\n",
       "    <tr>\n",
       "      <th>max</th>\n",
       "      <td>17.000000</td>\n",
       "      <td>750.971604</td>\n",
       "      <td>1999.840000</td>\n",
       "      <td>330.275317</td>\n",
       "      <td>24.00000</td>\n",
       "      <td>97.000000</td>\n",
       "      <td>118134.771190</td>\n",
       "    </tr>\n",
       "  </tbody>\n",
       "</table>\n",
       "</div>"
      ],
      "text/plain": [
       "       bedroom_count      net_sqm  center_distance  metro_distance  \\\n",
       "count    4045.000000  4045.000000      4045.000000     4045.000000   \n",
       "mean        3.649691   111.628225      1007.115236       89.412340   \n",
       "std         2.465720    89.459307       578.706749       71.000440   \n",
       "min         1.000000    -8.499109        10.060000     -168.492932   \n",
       "25%         2.000000    50.168622       510.630000       39.283508   \n",
       "50%         3.000000    86.381463      1009.410000       89.031988   \n",
       "75%         5.000000   144.767416      1493.410000      140.493035   \n",
       "max        17.000000   750.971604      1999.840000      330.275317   \n",
       "\n",
       "            floor          age          price  \n",
       "count  4045.00000  4045.000000    4045.000000  \n",
       "mean      9.55822    48.360198   95733.956499  \n",
       "std       7.70210    28.153029    3770.581749  \n",
       "min       1.00000     0.000000   84153.485790  \n",
       "25%       2.00000    24.000000   93199.037388  \n",
       "50%       8.00000    48.000000   95474.254973  \n",
       "75%      16.00000    72.000000   97863.622299  \n",
       "max      24.00000    97.000000  118134.771190  "
      ]
     },
     "execution_count": 9,
     "metadata": {},
     "output_type": "execute_result"
    }
   ],
   "source": [
    "df.describe()"
   ]
  },
  {
   "cell_type": "code",
   "execution_count": 10,
   "id": "6f480a10",
   "metadata": {},
   "outputs": [
    {
     "data": {
      "text/plain": [
       "(4045, 7)"
      ]
     },
     "execution_count": 10,
     "metadata": {},
     "output_type": "execute_result"
    }
   ],
   "source": [
    "## number of Rows & Columns\n",
    "\n",
    "df.shape"
   ]
  },
  {
   "cell_type": "code",
   "execution_count": 11,
   "id": "7f9d974e",
   "metadata": {},
   "outputs": [
    {
     "data": {
      "text/plain": [
       "bedroom_count      0\n",
       "net_sqm            0\n",
       "center_distance    0\n",
       "metro_distance     0\n",
       "floor              0\n",
       "age                0\n",
       "price              0\n",
       "dtype: int64"
      ]
     },
     "execution_count": 11,
     "metadata": {},
     "output_type": "execute_result"
    }
   ],
   "source": [
    "## count the null values\n",
    "\n",
    "df.isnull().sum()"
   ]
  },
  {
   "cell_type": "code",
   "execution_count": 12,
   "id": "c000a7c6",
   "metadata": {},
   "outputs": [
    {
     "data": {
      "text/plain": [
       "bedroom_count        int64\n",
       "net_sqm            float64\n",
       "center_distance    float64\n",
       "metro_distance     float64\n",
       "floor                int64\n",
       "age                  int64\n",
       "price              float64\n",
       "dtype: object"
      ]
     },
     "execution_count": 12,
     "metadata": {},
     "output_type": "execute_result"
    }
   ],
   "source": [
    "## check the catogorical & numerical variables\n",
    "\n",
    "df.dtypes"
   ]
  },
  {
   "cell_type": "code",
   "execution_count": 13,
   "id": "7888c346",
   "metadata": {},
   "outputs": [
    {
     "name": "stdout",
     "output_type": "stream",
     "text": [
      "<class 'pandas.core.frame.DataFrame'>\n",
      "RangeIndex: 4045 entries, 0 to 4044\n",
      "Data columns (total 7 columns):\n",
      " #   Column           Non-Null Count  Dtype  \n",
      "---  ------           --------------  -----  \n",
      " 0   bedroom_count    4045 non-null   int64  \n",
      " 1   net_sqm          4045 non-null   float64\n",
      " 2   center_distance  4045 non-null   float64\n",
      " 3   metro_distance   4045 non-null   float64\n",
      " 4   floor            4045 non-null   int64  \n",
      " 5   age              4045 non-null   int64  \n",
      " 6   price            4045 non-null   float64\n",
      "dtypes: float64(4), int64(3)\n",
      "memory usage: 221.3 KB\n"
     ]
    }
   ],
   "source": [
    "## getting the some information about the dataset\n",
    "\n",
    "df.info()"
   ]
  },
  {
   "cell_type": "code",
   "execution_count": 14,
   "id": "76ee2d55",
   "metadata": {},
   "outputs": [
    {
     "data": {
      "text/plain": [
       "2     1019\n",
       "3      764\n",
       "1      653\n",
       "4      512\n",
       "5      310\n",
       "6      213\n",
       "7      179\n",
       "8      145\n",
       "9      111\n",
       "10      77\n",
       "11      43\n",
       "12       9\n",
       "13       5\n",
       "14       3\n",
       "17       2\n",
       "Name: bedroom_count, dtype: int64"
      ]
     },
     "execution_count": 14,
     "metadata": {},
     "output_type": "execute_result"
    }
   ],
   "source": [
    "df[\"bedroom_count\"].value_counts()"
   ]
  },
  {
   "cell_type": "markdown",
   "id": "cb571539",
   "metadata": {},
   "source": [
    "## Finding the Outliers"
   ]
  },
  {
   "cell_type": "markdown",
   "id": "6271a10b",
   "metadata": {},
   "source": [
    "A box plot, also known as a box-and-whisker plot, is a graphical representation used in data science and statistics to display the distribution and key summary statistics of a dataset. Box plots provide a concise and informative way to visualize the central tendency, spread, and potential outliers in a dataset."
   ]
  },
  {
   "cell_type": "code",
   "execution_count": 15,
   "id": "0a9fa28f",
   "metadata": {
    "scrolled": true
   },
   "outputs": [
    {
     "data": {
      "image/png": "[encoded data removed]",
      "text/plain": [
       "<Figure size 1000x500 with 9 Axes>"
      ]
     },
     "metadata": {},
     "output_type": "display_data"
    }
   ],
   "source": [
    "\n",
    "\n",
    "def outliers(data):\n",
    "    fig,axs=plt.subplots(3,3,figsize=(10,5))\n",
    "    plt1=sns.boxplot(df[\"bedroom_count\"],ax=axs[0,0])\n",
    "    plt1=sns.boxplot(df[\"net_sqm\"],ax=axs[0,1])\n",
    "    plt1=sns.boxplot(df[\"center_distance\"],ax=axs[0,2])\n",
    "    plt1=sns.boxplot(df[\"metro_distance\"],ax=axs[1,0])\n",
    "    plt1=sns.boxplot(df[\"age\"],ax=axs[1,1])\n",
    "    plt1=sns.boxplot(df[\"floor\"],ax=axs[1,2])\n",
    "    plt1=sns.boxplot(df[\"price\"],ax=axs[2,0])\n",
    "    plt.tight_layout()\n",
    "outliers(df)    "
   ]
  },
  {
   "cell_type": "markdown",
   "id": "4f1b05df",
   "metadata": {},
   "source": [
    "## Removing the Outliers"
   ]
  },
  {
   "cell_type": "code",
   "execution_count": 16,
   "id": "dd32cfd3",
   "metadata": {},
   "outputs": [
    {
     "data": {
      "text/plain": [
       "(4045, 7)"
      ]
     },
     "execution_count": 16,
     "metadata": {},
     "output_type": "execute_result"
    }
   ],
   "source": [
    "df.shape"
   ]
  },
  {
   "cell_type": "code",
   "execution_count": 17,
   "id": "cbbc12ad",
   "metadata": {},
   "outputs": [],
   "source": [
    "Q1=df[\"bedroom_count\"].quantile(0.25)\n",
    "Q3=df[\"bedroom_count\"].quantile(0.75)\n",
    "IQR=Q3-Q1\n",
    "df=df[(df[\"bedroom_count\"]>=Q1-1.5*IQR)&(df[\"bedroom_count\"]<=Q3+1.5*IQR)]"
   ]
  },
  {
   "cell_type": "code",
   "execution_count": 18,
   "id": "e427e6eb",
   "metadata": {},
   "outputs": [],
   "source": [
    "Q1=df[\"net_sqm\"].quantile(0.25)\n",
    "Q3=df[\"net_sqm\"].quantile(0.75)\n",
    "df=df[(df[\"net_sqm\"]>=Q1-1.5*IQR)&(df[\"net_sqm\"]<=Q3+1.5*IQR)]"
   ]
  },
  {
   "cell_type": "code",
   "execution_count": 19,
   "id": "b5673b18",
   "metadata": {},
   "outputs": [],
   "source": [
    "Q1=df[\"metro_distance\"].quantile(0.25)\n",
    "Q3=df[\"metro_distance\"].quantile(0.75)\n",
    "df=df[(df[\"metro_distance\"]>=Q1-1.5*IQR)&(df[\"metro_distance\"]<=Q3+1.5*IQR)]"
   ]
  },
  {
   "cell_type": "code",
   "execution_count": 20,
   "id": "e556ba79",
   "metadata": {},
   "outputs": [],
   "source": [
    "Q1=df[\"price\"].quantile(0.25)\n",
    "Q3=df[\"price\"].quantile(0.75)\n",
    "df=df[(df[\"price\"]>=Q1-1.5*IQR)&(df[\"price\"]<=Q3+1.5*IQR)]"
   ]
  },
  {
   "cell_type": "code",
   "execution_count": 21,
   "id": "06003e97",
   "metadata": {},
   "outputs": [
    {
     "data": {
      "image/png": "[encoded data removed]",
      "text/plain": [
       "<Figure size 1000x500 with 9 Axes>"
      ]
     },
     "metadata": {},
     "output_type": "display_data"
    }
   ],
   "source": [
    "outliers(df)  "
   ]
  },
  {
   "cell_type": "code",
   "execution_count": 22,
   "id": "479d267e",
   "metadata": {},
   "outputs": [],
   "source": [
    "y=df[\"price\"]\n",
    "x=df[[\"bedroom_count\",\"net_sqm\",\"center_distance\",\"metro_distance\",\"floor\",\"age\"]]"
   ]
  },
  {
   "cell_type": "code",
   "execution_count": 23,
   "id": "d193f482",
   "metadata": {},
   "outputs": [
    {
     "data": {
      "text/html": [
       "<div>\n",
       "<style scoped>\n",
       "    .dataframe tbody tr th:only-of-type {\n",
       "        vertical-align: middle;\n",
       "    }\n",
       "\n",
       "    .dataframe tbody tr th {\n",
       "        vertical-align: top;\n",
       "    }\n",
       "\n",
       "    .dataframe thead th {\n",
       "        text-align: right;\n",
       "    }\n",
       "</style>\n",
       "<table border=\"1\" class=\"dataframe\">\n",
       "  <thead>\n",
       "    <tr style=\"text-align: right;\">\n",
       "      <th></th>\n",
       "      <th>bedroom_count</th>\n",
       "      <th>net_sqm</th>\n",
       "      <th>center_distance</th>\n",
       "      <th>metro_distance</th>\n",
       "      <th>floor</th>\n",
       "      <th>age</th>\n",
       "    </tr>\n",
       "  </thead>\n",
       "  <tbody>\n",
       "    <tr>\n",
       "      <th>27</th>\n",
       "      <td>1</td>\n",
       "      <td>55.555208</td>\n",
       "      <td>661.01</td>\n",
       "      <td>50.131707</td>\n",
       "      <td>20</td>\n",
       "      <td>65</td>\n",
       "    </tr>\n",
       "    <tr>\n",
       "      <th>38</th>\n",
       "      <td>1</td>\n",
       "      <td>51.174872</td>\n",
       "      <td>730.03</td>\n",
       "      <td>46.336359</td>\n",
       "      <td>20</td>\n",
       "      <td>81</td>\n",
       "    </tr>\n",
       "    <tr>\n",
       "      <th>50</th>\n",
       "      <td>1</td>\n",
       "      <td>77.619826</td>\n",
       "      <td>1498.58</td>\n",
       "      <td>90.098872</td>\n",
       "      <td>7</td>\n",
       "      <td>61</td>\n",
       "    </tr>\n",
       "    <tr>\n",
       "      <th>57</th>\n",
       "      <td>1</td>\n",
       "      <td>58.538837</td>\n",
       "      <td>1097.05</td>\n",
       "      <td>113.858095</td>\n",
       "      <td>11</td>\n",
       "      <td>8</td>\n",
       "    </tr>\n",
       "    <tr>\n",
       "      <th>76</th>\n",
       "      <td>1</td>\n",
       "      <td>59.972506</td>\n",
       "      <td>1093.92</td>\n",
       "      <td>54.912943</td>\n",
       "      <td>19</td>\n",
       "      <td>85</td>\n",
       "    </tr>\n",
       "    <tr>\n",
       "      <th>...</th>\n",
       "      <td>...</td>\n",
       "      <td>...</td>\n",
       "      <td>...</td>\n",
       "      <td>...</td>\n",
       "      <td>...</td>\n",
       "      <td>...</td>\n",
       "    </tr>\n",
       "    <tr>\n",
       "      <th>3852</th>\n",
       "      <td>9</td>\n",
       "      <td>66.831308</td>\n",
       "      <td>683.94</td>\n",
       "      <td>105.241152</td>\n",
       "      <td>1</td>\n",
       "      <td>33</td>\n",
       "    </tr>\n",
       "    <tr>\n",
       "      <th>3869</th>\n",
       "      <td>9</td>\n",
       "      <td>124.073363</td>\n",
       "      <td>610.72</td>\n",
       "      <td>43.189634</td>\n",
       "      <td>2</td>\n",
       "      <td>69</td>\n",
       "    </tr>\n",
       "    <tr>\n",
       "      <th>3888</th>\n",
       "      <td>9</td>\n",
       "      <td>109.858189</td>\n",
       "      <td>1237.29</td>\n",
       "      <td>129.454136</td>\n",
       "      <td>1</td>\n",
       "      <td>73</td>\n",
       "    </tr>\n",
       "    <tr>\n",
       "      <th>3889</th>\n",
       "      <td>9</td>\n",
       "      <td>131.520021</td>\n",
       "      <td>972.61</td>\n",
       "      <td>72.899295</td>\n",
       "      <td>1</td>\n",
       "      <td>81</td>\n",
       "    </tr>\n",
       "    <tr>\n",
       "      <th>3897</th>\n",
       "      <td>9</td>\n",
       "      <td>131.105262</td>\n",
       "      <td>1625.79</td>\n",
       "      <td>127.457877</td>\n",
       "      <td>1</td>\n",
       "      <td>45</td>\n",
       "    </tr>\n",
       "  </tbody>\n",
       "</table>\n",
       "<p>578 rows × 6 columns</p>\n",
       "</div>"
      ],
      "text/plain": [
       "      bedroom_count     net_sqm  center_distance  metro_distance  floor  age\n",
       "27                1   55.555208           661.01       50.131707     20   65\n",
       "38                1   51.174872           730.03       46.336359     20   81\n",
       "50                1   77.619826          1498.58       90.098872      7   61\n",
       "57                1   58.538837          1097.05      113.858095     11    8\n",
       "76                1   59.972506          1093.92       54.912943     19   85\n",
       "...             ...         ...              ...             ...    ...  ...\n",
       "3852              9   66.831308           683.94      105.241152      1   33\n",
       "3869              9  124.073363           610.72       43.189634      2   69\n",
       "3888              9  109.858189          1237.29      129.454136      1   73\n",
       "3889              9  131.520021           972.61       72.899295      1   81\n",
       "3897              9  131.105262          1625.79      127.457877      1   45\n",
       "\n",
       "[578 rows x 6 columns]"
      ]
     },
     "execution_count": 23,
     "metadata": {},
     "output_type": "execute_result"
    }
   ],
   "source": [
    "x"
   ]
  },
  {
   "cell_type": "markdown",
   "id": "84271c43",
   "metadata": {},
   "source": [
    "## Split the Dataset"
   ]
  },
  {
   "cell_type": "markdown",
   "id": "e9cd05c7",
   "metadata": {},
   "source": [
    "Splitting corpus into trainig and test set.for this,we need class train_test_split from sklearn cross,validation,split.split can be made 70/30 or 80/20 or 75/25. here, i choose 75/25 via \"test_size\".X is the bag of words.y is 0 or 1(positivr or negative)"
   ]
  },
  {
   "cell_type": "code",
   "execution_count": 24,
   "id": "240042cc",
   "metadata": {},
   "outputs": [],
   "source": [
    "from sklearn.model_selection import train_test_split\n",
    "x_train,x_test,y_train,y_test=train_test_split(x,y,test_size=0.20,random_state=10)"
   ]
  },
  {
   "cell_type": "markdown",
   "id": "fe63aa96",
   "metadata": {},
   "source": [
    "# Linear Regression"
   ]
  },
  {
   "cell_type": "markdown",
   "id": "3bd74601",
   "metadata": {},
   "source": [
    "## Find the predicted values"
   ]
  },
  {
   "cell_type": "markdown",
   "id": "2699ce66",
   "metadata": {},
   "source": [
    " Once the model is trained and evaluated, it can be used to make predictions on new, unseen data. These predictions provide valuable insights and can be used for decision-making, such as pricing houses, diagnosing diseases, or making recommendations."
   ]
  },
  {
   "cell_type": "code",
   "execution_count": 25,
   "id": "49d90ff5",
   "metadata": {},
   "outputs": [],
   "source": [
    "from sklearn.linear_model import LinearRegression\n",
    "regression=LinearRegression()\n",
    "regression.fit(x_train,y_train)\n",
    "y_predict=regression.predict(x_test)\n",
    "model_results=pd.DataFrame({\"actual values\":y_test,\"lr predicted values\":y_predict})\n"
   ]
  },
  {
   "cell_type": "code",
   "execution_count": 26,
   "id": "e7c5f8f0",
   "metadata": {},
   "outputs": [
    {
     "data": {
      "text/html": [
       "<div>\n",
       "<style scoped>\n",
       "    .dataframe tbody tr th:only-of-type {\n",
       "        vertical-align: middle;\n",
       "    }\n",
       "\n",
       "    .dataframe tbody tr th {\n",
       "        vertical-align: top;\n",
       "    }\n",
       "\n",
       "    .dataframe thead th {\n",
       "        text-align: right;\n",
       "    }\n",
       "</style>\n",
       "<table border=\"1\" class=\"dataframe\">\n",
       "  <thead>\n",
       "    <tr style=\"text-align: right;\">\n",
       "      <th></th>\n",
       "      <th>actual values</th>\n",
       "      <th>lr predicted values</th>\n",
       "    </tr>\n",
       "  </thead>\n",
       "  <tbody>\n",
       "    <tr>\n",
       "      <th>1737</th>\n",
       "      <td>95173.012051</td>\n",
       "      <td>95096.324073</td>\n",
       "    </tr>\n",
       "    <tr>\n",
       "      <th>3533</th>\n",
       "      <td>95960.892341</td>\n",
       "      <td>96111.977204</td>\n",
       "    </tr>\n",
       "    <tr>\n",
       "      <th>2213</th>\n",
       "      <td>94323.005616</td>\n",
       "      <td>93933.986906</td>\n",
       "    </tr>\n",
       "    <tr>\n",
       "      <th>1604</th>\n",
       "      <td>93741.430128</td>\n",
       "      <td>94196.855640</td>\n",
       "    </tr>\n",
       "    <tr>\n",
       "      <th>1626</th>\n",
       "      <td>93271.913360</td>\n",
       "      <td>93941.646333</td>\n",
       "    </tr>\n",
       "    <tr>\n",
       "      <th>...</th>\n",
       "      <td>...</td>\n",
       "      <td>...</td>\n",
       "    </tr>\n",
       "    <tr>\n",
       "      <th>986</th>\n",
       "      <td>94709.429218</td>\n",
       "      <td>94491.375984</td>\n",
       "    </tr>\n",
       "    <tr>\n",
       "      <th>849</th>\n",
       "      <td>96386.756126</td>\n",
       "      <td>94801.049857</td>\n",
       "    </tr>\n",
       "    <tr>\n",
       "      <th>1893</th>\n",
       "      <td>94797.785577</td>\n",
       "      <td>95560.186516</td>\n",
       "    </tr>\n",
       "    <tr>\n",
       "      <th>859</th>\n",
       "      <td>96484.207601</td>\n",
       "      <td>95380.620766</td>\n",
       "    </tr>\n",
       "    <tr>\n",
       "      <th>1400</th>\n",
       "      <td>93898.352074</td>\n",
       "      <td>94338.696146</td>\n",
       "    </tr>\n",
       "  </tbody>\n",
       "</table>\n",
       "<p>116 rows × 2 columns</p>\n",
       "</div>"
      ],
      "text/plain": [
       "      actual values  lr predicted values\n",
       "1737   95173.012051         95096.324073\n",
       "3533   95960.892341         96111.977204\n",
       "2213   94323.005616         93933.986906\n",
       "1604   93741.430128         94196.855640\n",
       "1626   93271.913360         93941.646333\n",
       "...             ...                  ...\n",
       "986    94709.429218         94491.375984\n",
       "849    96386.756126         94801.049857\n",
       "1893   94797.785577         95560.186516\n",
       "859    96484.207601         95380.620766\n",
       "1400   93898.352074         94338.696146\n",
       "\n",
       "[116 rows x 2 columns]"
      ]
     },
     "execution_count": 26,
     "metadata": {},
     "output_type": "execute_result"
    }
   ],
   "source": [
    "model_results"
   ]
  },
  {
   "cell_type": "code",
   "execution_count": 27,
   "id": "5d2ae25e",
   "metadata": {},
   "outputs": [
    {
     "data": {
      "image/png": "[encoded data removed]",
      "text/plain": [
       "<Figure size 1000x700 with 1 Axes>"
      ]
     },
     "metadata": {},
     "output_type": "display_data"
    }
   ],
   "source": [
    "# Prediction Plot\n",
    "plt.figure(figsize=(10,7))\n",
    "plt.scatter(y_test,y_predict)\n",
    "plt.xlabel(\"actual values\")\n",
    "plt.ylabel(\"Predicted values\")\n",
    "plt.title(\"actual values vs Predicted values\")\n",
    "plt.show()\n"
   ]
  },
  {
   "cell_type": "markdown",
   "id": "51ef04d3",
   "metadata": {},
   "source": [
    "## Model Evolution"
   ]
  },
  {
   "cell_type": "markdown",
   "id": "0bd839f2",
   "metadata": {},
   "source": [
    "\n",
    "                         A variety of machine learning algorithms will be applied and evaluated to determine the most suitable model for the task. We will assess the model's performance using metrics such as Mean Squared Error(MSE), Mean Absolute Error (MAE), Root Mean Square Error (RMSE),Mean Absolute Percentage Error(MAPE) and R-squared."
   ]
  },
  {
   "cell_type": "code",
   "execution_count": 28,
   "id": "2465dd83",
   "metadata": {},
   "outputs": [],
   "source": [
    "from sklearn.metrics import mean_absolute_error,mean_squared_error,mean_absolute_percentage_error,r2_score"
   ]
  },
  {
   "cell_type": "code",
   "execution_count": 29,
   "id": "d2066be3",
   "metadata": {},
   "outputs": [],
   "source": [
    "mse=mean_squared_error(y_test,y_predict,squared=True)\n",
    "mae=mean_absolute_error(y_test,y_predict)\n",
    "rmse=mean_squared_error(y_test,y_predict,squared=False)\n",
    "mape=mean_absolute_percentage_error(y_test,y_predict)\n",
    "r2=r2_score(y_test,y_predict)"
   ]
  },
  {
   "cell_type": "code",
   "execution_count": 30,
   "id": "9cb34d74",
   "metadata": {},
   "outputs": [
    {
     "name": "stdout",
     "output_type": "stream",
     "text": [
      "Mean Squared Error : 679678.2006160687\n",
      "\n",
      "\n",
      "Mean Absolute Error : 701.5699149582076\n",
      "\n",
      "\n",
      "Root Mean Squuared Error : 824.4259824969545\n",
      "\n",
      "\n",
      "Mean Absolute Percentage Error : 0.007396462334950682\n",
      "\n",
      "\n",
      "R-Squared : 0.36826707210633025\n"
     ]
    }
   ],
   "source": [
    "print(\"Mean Squared Error :\",mse)\n",
    "print(\"\\n\")\n",
    "print(\"Mean Absolute Error :\",mae)\n",
    "print(\"\\n\")\n",
    "print(\"Root Mean Squuared Error :\",rmse)\n",
    "print(\"\\n\")\n",
    "print(\"Mean Absolute Percentage Error :\",mape)\n",
    "print(\"\\n\")\n",
    "print(\"R-Squared :\",r2)"
   ]
  },
  {
   "cell_type": "markdown",
   "id": "445c3465",
   "metadata": {},
   "source": [
    "## Decision Tree Regressor"
   ]
  },
  {
   "cell_type": "code",
   "execution_count": 31,
   "id": "62836067",
   "metadata": {},
   "outputs": [],
   "source": [
    "from sklearn.tree import DecisionTreeRegressor\n",
    "decision_tree_model= DecisionTreeRegressor()\n",
    "decision_tree_model.fit(x_train,y_train)\n",
    "y_prediction_tree=decision_tree_model.predict(x_train)\n",
    "\n",
    "y_prediction_tree_test=decision_tree_model.predict(x_test)\n",
    "y_prediction_tree_test\n",
    "\n",
    "mse_=mean_squared_error(y_test,y_prediction_tree_test,squared=True)\n",
    "mae_=mean_absolute_error(y_test,y_prediction_tree_test)\n",
    "rmse_=mean_squared_error(y_test,y_prediction_tree_test,squared=False)\n",
    "mape_=mean_absolute_percentage_error(y_test,y_prediction_tree_test)\n",
    "r2_=r2_score(y_test,y_prediction_tree_test)\n"
   ]
  },
  {
   "cell_type": "code",
   "execution_count": 32,
   "id": "501b543d",
   "metadata": {},
   "outputs": [
    {
     "data": {
      "text/html": [
       "<div>\n",
       "<style scoped>\n",
       "    .dataframe tbody tr th:only-of-type {\n",
       "        vertical-align: middle;\n",
       "    }\n",
       "\n",
       "    .dataframe tbody tr th {\n",
       "        vertical-align: top;\n",
       "    }\n",
       "\n",
       "    .dataframe thead th {\n",
       "        text-align: right;\n",
       "    }\n",
       "</style>\n",
       "<table border=\"1\" class=\"dataframe\">\n",
       "  <thead>\n",
       "    <tr style=\"text-align: right;\">\n",
       "      <th></th>\n",
       "      <th>actual values</th>\n",
       "      <th>dtr predicted values</th>\n",
       "    </tr>\n",
       "  </thead>\n",
       "  <tbody>\n",
       "    <tr>\n",
       "      <th>1737</th>\n",
       "      <td>95173.012051</td>\n",
       "      <td>96847.860536</td>\n",
       "    </tr>\n",
       "    <tr>\n",
       "      <th>3533</th>\n",
       "      <td>95960.892341</td>\n",
       "      <td>96555.101406</td>\n",
       "    </tr>\n",
       "    <tr>\n",
       "      <th>2213</th>\n",
       "      <td>94323.005616</td>\n",
       "      <td>94718.318902</td>\n",
       "    </tr>\n",
       "    <tr>\n",
       "      <th>1604</th>\n",
       "      <td>93741.430128</td>\n",
       "      <td>94679.708772</td>\n",
       "    </tr>\n",
       "    <tr>\n",
       "      <th>1626</th>\n",
       "      <td>93271.913360</td>\n",
       "      <td>93516.348183</td>\n",
       "    </tr>\n",
       "    <tr>\n",
       "      <th>...</th>\n",
       "      <td>...</td>\n",
       "      <td>...</td>\n",
       "    </tr>\n",
       "    <tr>\n",
       "      <th>986</th>\n",
       "      <td>94709.429218</td>\n",
       "      <td>94654.251847</td>\n",
       "    </tr>\n",
       "    <tr>\n",
       "      <th>849</th>\n",
       "      <td>96386.756126</td>\n",
       "      <td>95570.995055</td>\n",
       "    </tr>\n",
       "    <tr>\n",
       "      <th>1893</th>\n",
       "      <td>94797.785577</td>\n",
       "      <td>94527.934435</td>\n",
       "    </tr>\n",
       "    <tr>\n",
       "      <th>859</th>\n",
       "      <td>96484.207601</td>\n",
       "      <td>95157.201126</td>\n",
       "    </tr>\n",
       "    <tr>\n",
       "      <th>1400</th>\n",
       "      <td>93898.352074</td>\n",
       "      <td>95506.680781</td>\n",
       "    </tr>\n",
       "  </tbody>\n",
       "</table>\n",
       "<p>116 rows × 2 columns</p>\n",
       "</div>"
      ],
      "text/plain": [
       "      actual values  dtr predicted values\n",
       "1737   95173.012051          96847.860536\n",
       "3533   95960.892341          96555.101406\n",
       "2213   94323.005616          94718.318902\n",
       "1604   93741.430128          94679.708772\n",
       "1626   93271.913360          93516.348183\n",
       "...             ...                   ...\n",
       "986    94709.429218          94654.251847\n",
       "849    96386.756126          95570.995055\n",
       "1893   94797.785577          94527.934435\n",
       "859    96484.207601          95157.201126\n",
       "1400   93898.352074          95506.680781\n",
       "\n",
       "[116 rows x 2 columns]"
      ]
     },
     "execution_count": 32,
     "metadata": {},
     "output_type": "execute_result"
    }
   ],
   "source": [
    "model_results=pd.DataFrame({\"actual values\":y_test,\"dtr predicted values\":y_prediction_tree_test})\n",
    "model_results"
   ]
  },
  {
   "cell_type": "code",
   "execution_count": 33,
   "id": "c74a3b02",
   "metadata": {},
   "outputs": [
    {
     "data": {
      "image/png": "[encoded data removed]",
      "text/plain": [
       "<Figure size 1000x700 with 1 Axes>"
      ]
     },
     "metadata": {},
     "output_type": "display_data"
    }
   ],
   "source": [
    "# Prediction Plot\n",
    "plt.figure(figsize=(10,7))\n",
    "plt.scatter(y_test,y_prediction_tree_test)\n",
    "plt.xlabel(\"actual values\")\n",
    "plt.ylabel(\"Predicted values\")\n",
    "plt.title(\"actual values vs Predicted values\")\n",
    "plt.show()\n"
   ]
  },
  {
   "cell_type": "code",
   "execution_count": 34,
   "id": "2833d26a",
   "metadata": {
    "scrolled": true
   },
   "outputs": [
    {
     "name": "stdout",
     "output_type": "stream",
     "text": [
      "Mean Squared Error : 1735104.2925525317\n",
      "\n",
      "\n",
      "Mean Absolute Error : 1057.2533986946721\n",
      "\n",
      "\n",
      "Root Mean Squuared Error : 1317.2335755485933\n",
      "\n",
      "\n",
      "Mean Absolute Percentage Error : 0.011138367180059382\n",
      "\n",
      "\n",
      "R-Squared : -0.612708063818358\n"
     ]
    }
   ],
   "source": [
    "print(\"Mean Squared Error :\",mse_)\n",
    "print(\"\\n\")\n",
    "print(\"Mean Absolute Error :\",mae_)\n",
    "print(\"\\n\")\n",
    "print(\"Root Mean Squuared Error :\",rmse_)\n",
    "print(\"\\n\")\n",
    "print(\"Mean Absolute Percentage Error :\",mape_)\n",
    "print(\"\\n\")\n",
    "print(\"R-Squared :\",r2_)"
   ]
  },
  {
   "cell_type": "markdown",
   "id": "220d3ee0",
   "metadata": {},
   "source": [
    "## Random Forest Regressor"
   ]
  },
  {
   "cell_type": "code",
   "execution_count": 35,
   "id": "8b1a6e4c",
   "metadata": {},
   "outputs": [],
   "source": [
    "from sklearn.ensemble import RandomForestRegressor\n",
    "random_forest_model=RandomForestRegressor(n_estimators=200, random_state=7)\n",
    "random_forest_model.fit(x_train,y_train)\n",
    "\n",
    "y_prediction_random_forest=random_forest_model.predict(x_train)\n",
    "\n",
    "y_prediction_random_forest_test=random_forest_model.predict(x_test)\n",
    "\n",
    "rft_mse=mean_squared_error(y_test,y_prediction_tree_test,squared=True)\n",
    "rft_mae=mean_absolute_error(y_test,y_prediction_tree_test)\n",
    "rft_rmse=mean_squared_error(y_test,y_prediction_tree_test,squared=False)\n",
    "rft_mape=mean_absolute_percentage_error(y_test,y_prediction_tree_test)\n",
    "rft_r2=r2_score(y_test,y_prediction_tree_test)\n"
   ]
  },
  {
   "cell_type": "code",
   "execution_count": 36,
   "id": "7953bff6",
   "metadata": {},
   "outputs": [
    {
     "data": {
      "text/html": [
       "<div>\n",
       "<style scoped>\n",
       "    .dataframe tbody tr th:only-of-type {\n",
       "        vertical-align: middle;\n",
       "    }\n",
       "\n",
       "    .dataframe tbody tr th {\n",
       "        vertical-align: top;\n",
       "    }\n",
       "\n",
       "    .dataframe thead th {\n",
       "        text-align: right;\n",
       "    }\n",
       "</style>\n",
       "<table border=\"1\" class=\"dataframe\">\n",
       "  <thead>\n",
       "    <tr style=\"text-align: right;\">\n",
       "      <th></th>\n",
       "      <th>actual values</th>\n",
       "      <th>rfr predicted values</th>\n",
       "    </tr>\n",
       "  </thead>\n",
       "  <tbody>\n",
       "    <tr>\n",
       "      <th>1737</th>\n",
       "      <td>95173.012051</td>\n",
       "      <td>95951.769988</td>\n",
       "    </tr>\n",
       "    <tr>\n",
       "      <th>3533</th>\n",
       "      <td>95960.892341</td>\n",
       "      <td>95752.337765</td>\n",
       "    </tr>\n",
       "    <tr>\n",
       "      <th>2213</th>\n",
       "      <td>94323.005616</td>\n",
       "      <td>94393.265550</td>\n",
       "    </tr>\n",
       "    <tr>\n",
       "      <th>1604</th>\n",
       "      <td>93741.430128</td>\n",
       "      <td>94339.111311</td>\n",
       "    </tr>\n",
       "    <tr>\n",
       "      <th>1626</th>\n",
       "      <td>93271.913360</td>\n",
       "      <td>93877.990793</td>\n",
       "    </tr>\n",
       "    <tr>\n",
       "      <th>...</th>\n",
       "      <td>...</td>\n",
       "      <td>...</td>\n",
       "    </tr>\n",
       "    <tr>\n",
       "      <th>986</th>\n",
       "      <td>94709.429218</td>\n",
       "      <td>94635.571908</td>\n",
       "    </tr>\n",
       "    <tr>\n",
       "      <th>849</th>\n",
       "      <td>96386.756126</td>\n",
       "      <td>95046.084216</td>\n",
       "    </tr>\n",
       "    <tr>\n",
       "      <th>1893</th>\n",
       "      <td>94797.785577</td>\n",
       "      <td>95709.636178</td>\n",
       "    </tr>\n",
       "    <tr>\n",
       "      <th>859</th>\n",
       "      <td>96484.207601</td>\n",
       "      <td>95576.435378</td>\n",
       "    </tr>\n",
       "    <tr>\n",
       "      <th>1400</th>\n",
       "      <td>93898.352074</td>\n",
       "      <td>94546.035802</td>\n",
       "    </tr>\n",
       "  </tbody>\n",
       "</table>\n",
       "<p>116 rows × 2 columns</p>\n",
       "</div>"
      ],
      "text/plain": [
       "      actual values  rfr predicted values\n",
       "1737   95173.012051          95951.769988\n",
       "3533   95960.892341          95752.337765\n",
       "2213   94323.005616          94393.265550\n",
       "1604   93741.430128          94339.111311\n",
       "1626   93271.913360          93877.990793\n",
       "...             ...                   ...\n",
       "986    94709.429218          94635.571908\n",
       "849    96386.756126          95046.084216\n",
       "1893   94797.785577          95709.636178\n",
       "859    96484.207601          95576.435378\n",
       "1400   93898.352074          94546.035802\n",
       "\n",
       "[116 rows x 2 columns]"
      ]
     },
     "execution_count": 36,
     "metadata": {},
     "output_type": "execute_result"
    }
   ],
   "source": [
    "model_results=pd.DataFrame({\"actual values\":y_test,\"rfr predicted values\":y_prediction_random_forest_test})\n",
    "model_results"
   ]
  },
  {
   "cell_type": "code",
   "execution_count": 37,
   "id": "a10548c6",
   "metadata": {},
   "outputs": [
    {
     "data": {
      "image/png": "[encoded data removed]",
      "text/plain": [
       "<Figure size 1000x700 with 1 Axes>"
      ]
     },
     "metadata": {},
     "output_type": "display_data"
    }
   ],
   "source": [
    "# Prediction Plot\n",
    "plt.figure(figsize=(10,7))\n",
    "plt.scatter(y_test,y_prediction_random_forest_test)\n",
    "plt.xlabel(\"actual values\")\n",
    "plt.ylabel(\"Predicted values\")\n",
    "plt.title(\"actual values vs Predicted values\")\n",
    "plt.show()\n"
   ]
  },
  {
   "cell_type": "code",
   "execution_count": 38,
   "id": "76934aec",
   "metadata": {},
   "outputs": [
    {
     "name": "stdout",
     "output_type": "stream",
     "text": [
      "Mean Squared Error : 1735104.2925525317\n",
      "\n",
      "\n",
      "Mean Absolute Error : 1057.2533986946721\n",
      "\n",
      "\n",
      "Root Mean Squuared Error : 1317.2335755485933\n",
      "\n",
      "\n",
      "Mean Absolute Percentage Error : 0.011138367180059382\n",
      "\n",
      "\n",
      "R-Squared : -0.612708063818358\n"
     ]
    }
   ],
   "source": [
    "print(\"Mean Squared Error :\",rft_mse)\n",
    "print(\"\\n\")\n",
    "print(\"Mean Absolute Error :\",rft_mae)\n",
    "print(\"\\n\")\n",
    "print(\"Root Mean Squuared Error :\",rft_rmse)\n",
    "print(\"\\n\")\n",
    "print(\"Mean Absolute Percentage Error :\",rft_mape)\n",
    "print(\"\\n\")\n",
    "print(\"R-Squared :\",rft_r2)\n"
   ]
  },
  {
   "cell_type": "code",
   "execution_count": 39,
   "id": "5a483a5a",
   "metadata": {},
   "outputs": [
    {
     "data": {
      "text/html": [
       "<div>\n",
       "<style scoped>\n",
       "    .dataframe tbody tr th:only-of-type {\n",
       "        vertical-align: middle;\n",
       "    }\n",
       "\n",
       "    .dataframe tbody tr th {\n",
       "        vertical-align: top;\n",
       "    }\n",
       "\n",
       "    .dataframe thead th {\n",
       "        text-align: right;\n",
       "    }\n",
       "</style>\n",
       "<table border=\"1\" class=\"dataframe\">\n",
       "  <thead>\n",
       "    <tr style=\"text-align: right;\">\n",
       "      <th></th>\n",
       "      <th>actual values</th>\n",
       "      <th>lr predicted values</th>\n",
       "      <th>dtr predicted values</th>\n",
       "      <th>rfr predicted values</th>\n",
       "    </tr>\n",
       "  </thead>\n",
       "  <tbody>\n",
       "    <tr>\n",
       "      <th>1737</th>\n",
       "      <td>95173.012051</td>\n",
       "      <td>95096.324073</td>\n",
       "      <td>96847.860536</td>\n",
       "      <td>95951.769988</td>\n",
       "    </tr>\n",
       "    <tr>\n",
       "      <th>3533</th>\n",
       "      <td>95960.892341</td>\n",
       "      <td>96111.977204</td>\n",
       "      <td>96555.101406</td>\n",
       "      <td>95752.337765</td>\n",
       "    </tr>\n",
       "    <tr>\n",
       "      <th>2213</th>\n",
       "      <td>94323.005616</td>\n",
       "      <td>93933.986906</td>\n",
       "      <td>94718.318902</td>\n",
       "      <td>94393.265550</td>\n",
       "    </tr>\n",
       "    <tr>\n",
       "      <th>1604</th>\n",
       "      <td>93741.430128</td>\n",
       "      <td>94196.855640</td>\n",
       "      <td>94679.708772</td>\n",
       "      <td>94339.111311</td>\n",
       "    </tr>\n",
       "    <tr>\n",
       "      <th>1626</th>\n",
       "      <td>93271.913360</td>\n",
       "      <td>93941.646333</td>\n",
       "      <td>93516.348183</td>\n",
       "      <td>93877.990793</td>\n",
       "    </tr>\n",
       "    <tr>\n",
       "      <th>...</th>\n",
       "      <td>...</td>\n",
       "      <td>...</td>\n",
       "      <td>...</td>\n",
       "      <td>...</td>\n",
       "    </tr>\n",
       "    <tr>\n",
       "      <th>986</th>\n",
       "      <td>94709.429218</td>\n",
       "      <td>94491.375984</td>\n",
       "      <td>94654.251847</td>\n",
       "      <td>94635.571908</td>\n",
       "    </tr>\n",
       "    <tr>\n",
       "      <th>849</th>\n",
       "      <td>96386.756126</td>\n",
       "      <td>94801.049857</td>\n",
       "      <td>95570.995055</td>\n",
       "      <td>95046.084216</td>\n",
       "    </tr>\n",
       "    <tr>\n",
       "      <th>1893</th>\n",
       "      <td>94797.785577</td>\n",
       "      <td>95560.186516</td>\n",
       "      <td>94527.934435</td>\n",
       "      <td>95709.636178</td>\n",
       "    </tr>\n",
       "    <tr>\n",
       "      <th>859</th>\n",
       "      <td>96484.207601</td>\n",
       "      <td>95380.620766</td>\n",
       "      <td>95157.201126</td>\n",
       "      <td>95576.435378</td>\n",
       "    </tr>\n",
       "    <tr>\n",
       "      <th>1400</th>\n",
       "      <td>93898.352074</td>\n",
       "      <td>94338.696146</td>\n",
       "      <td>95506.680781</td>\n",
       "      <td>94546.035802</td>\n",
       "    </tr>\n",
       "  </tbody>\n",
       "</table>\n",
       "<p>116 rows × 4 columns</p>\n",
       "</div>"
      ],
      "text/plain": [
       "      actual values  lr predicted values  dtr predicted values  \\\n",
       "1737   95173.012051         95096.324073          96847.860536   \n",
       "3533   95960.892341         96111.977204          96555.101406   \n",
       "2213   94323.005616         93933.986906          94718.318902   \n",
       "1604   93741.430128         94196.855640          94679.708772   \n",
       "1626   93271.913360         93941.646333          93516.348183   \n",
       "...             ...                  ...                   ...   \n",
       "986    94709.429218         94491.375984          94654.251847   \n",
       "849    96386.756126         94801.049857          95570.995055   \n",
       "1893   94797.785577         95560.186516          94527.934435   \n",
       "859    96484.207601         95380.620766          95157.201126   \n",
       "1400   93898.352074         94338.696146          95506.680781   \n",
       "\n",
       "      rfr predicted values  \n",
       "1737          95951.769988  \n",
       "3533          95752.337765  \n",
       "2213          94393.265550  \n",
       "1604          94339.111311  \n",
       "1626          93877.990793  \n",
       "...                    ...  \n",
       "986           94635.571908  \n",
       "849           95046.084216  \n",
       "1893          95709.636178  \n",
       "859           95576.435378  \n",
       "1400          94546.035802  \n",
       "\n",
       "[116 rows x 4 columns]"
      ]
     },
     "execution_count": 39,
     "metadata": {},
     "output_type": "execute_result"
    }
   ],
   "source": [
    "df=pd.DataFrame({\"actual values\":y_test,\"lr predicted values\":y_predict,\"dtr predicted values\":y_prediction_tree_test,\"rfr predicted values\":y_prediction_random_forest_test})\n",
    "df"
   ]
  },
  {
   "cell_type": "code",
   "execution_count": 40,
   "id": "beec8889",
   "metadata": {},
   "outputs": [],
   "source": [
    "# open a fie, where you want to store the data\n",
    "file=open(\"house prediction web.pkl\",\"wb\")\n",
    " \n",
    "# dump information to the file    \n",
    "pickle.dump(decision_tree_model,file)"
   ]
  },
  {
   "cell_type": "code",
   "execution_count": null,
   "id": "2e586a57",
   "metadata": {},
   "outputs": [],
   "source": []
  },
  {
   "cell_type": "code",
   "execution_count": null,
   "id": "9c4e9b8e",
   "metadata": {},
   "outputs": [],
   "source": []
  }
 ],
 "metadata": {
  "kernelspec": {
   "display_name": "Python 3 (ipykernel)",
   "language": "python",
   "name": "python3"
  },
  "language_info": {
   "codemirror_mode": {
    "name": "ipython",
    "version": 3
   },
   "file_extension": ".py",
   "mimetype": "text/x-python",
   "name": "python",
   "nbconvert_exporter": "python",
   "pygments_lexer": "ipython3",
   "version": "3.9.13"
  }
 },
 "nbformat": 4,
 "nbformat_minor": 5
}
